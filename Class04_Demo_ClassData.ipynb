{
 "cells": [
  {
   "cell_type": "code",
   "execution_count": null,
   "id": "6d57008e-d422-4754-afde-b002552e84f5",
   "metadata": {},
   "outputs": [],
   "source": [
    "# default python library - no need for pip install\n",
    "import csv"
   ]
  },
  {
   "cell_type": "code",
   "execution_count": null,
   "id": "ca8bd416-01d6-447a-9e42-9329fc0353f0",
   "metadata": {},
   "outputs": [],
   "source": [
    "# file is a variable name that represents my opened file\n",
    "with open('Data/ClassData.csv', newline='') as file:\n",
    "    # we need a way to read our file - my_reader is a variable that can read my file\n",
    "    my_reader = csv.reader(file)\n",
    "    # pull out the headers - they get their own variable\n",
    "    headers = next(my_reader)\n",
    "    # data will become a list of lists!\n",
    "    my_data = []\n",
    "    for row in my_reader:\n",
    "        my_data.append(row)\n",
    "\n",
    "print(headers)\n",
    "print(my_data)"
   ]
  },
  {
   "cell_type": "code",
   "execution_count": null,
   "id": "8bd4e60d-e3d0-4b79-b95e-10b3f0f501d7",
   "metadata": {},
   "outputs": [],
   "source": [
    "for datum in my_data:\n",
    "    print(datum[1])"
   ]
  },
  {
   "cell_type": "code",
   "execution_count": null,
   "id": "c85c151f-ab18-4730-afa9-720c99f1d3d5",
   "metadata": {},
   "outputs": [],
   "source": [
    "# start with empty dictionary\n",
    "favorite_animals = {}\n",
    "\n",
    "for datum in my_data:\n",
    "    # pull out the animal answer from the row of answers\n",
    "    animal = datum[1]\n",
    "    # is the animal already in the dictionary?\n",
    "    if animal in favorite_animals:\n",
    "        # animal is my key in the dictionary!\n",
    "        favorite_animals[animal] += 1\n",
    "    # we have a new animal not in the dictionary\n",
    "    else:\n",
    "        # add the key (ie the animal) to my dictionary\n",
    "        favorite_animals[animal] = 1\n",
    "\n",
    "print(favorite_animals)"
   ]
  },
  {
   "cell_type": "code",
   "execution_count": null,
   "id": "ffe754fa-2896-4a7b-8f62-e52b9dd3ebc8",
   "metadata": {},
   "outputs": [],
   "source": [
    "# for datum in my_data:\n",
    "#     print(datum[2])\n",
    "\n",
    "\n",
    "years_living_here = [int(datum[2]) for datum in my_data]\n",
    "print(max(years_living_here))"
   ]
  },
  {
   "cell_type": "code",
   "execution_count": null,
   "id": "f0279091-fa4b-4b54-8021-73aca5a19e95",
   "metadata": {},
   "outputs": [],
   "source": []
  }
 ],
 "metadata": {
  "kernelspec": {
   "display_name": "Python 3 (ipykernel)",
   "language": "python",
   "name": "python3"
  },
  "language_info": {
   "codemirror_mode": {
    "name": "ipython",
    "version": 3
   },
   "file_extension": ".py",
   "mimetype": "text/x-python",
   "name": "python",
   "nbconvert_exporter": "python",
   "pygments_lexer": "ipython3",
   "version": "3.12.6"
  }
 },
 "nbformat": 4,
 "nbformat_minor": 5
}
