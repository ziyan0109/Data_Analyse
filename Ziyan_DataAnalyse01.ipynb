{
 "cells": [
  {
   "cell_type": "code",
   "execution_count": 4,
   "id": "6e11d009-26ff-48cb-aba4-75cd71aa9d9c",
   "metadata": {},
   "outputs": [],
   "source": [
    "import pandas as pd\n",
    "import matplotlib.pyplot as plt\n",
    "%matplotlib inline"
   ]
  },
  {
   "cell_type": "code",
   "execution_count": 5,
   "id": "44505186-8820-4d5c-9942-36c93afc3714",
   "metadata": {},
   "outputs": [],
   "source": [
    "path = 'Questionnaire.csv'\n",
    "Survey = pd.read_csv(path)"
   ]
  },
  {
   "cell_type": "code",
   "execution_count": 6,
   "id": "fe7b744a-fe87-4daa-9709-e8482384ec31",
   "metadata": {},
   "outputs": [
    {
     "data": {
      "text/html": [
       "<div>\n",
       "<style scoped>\n",
       "    .dataframe tbody tr th:only-of-type {\n",
       "        vertical-align: middle;\n",
       "    }\n",
       "\n",
       "    .dataframe tbody tr th {\n",
       "        vertical-align: top;\n",
       "    }\n",
       "\n",
       "    .dataframe thead th {\n",
       "        text-align: right;\n",
       "    }\n",
       "</style>\n",
       "<table border=\"1\" class=\"dataframe\">\n",
       "  <thead>\n",
       "    <tr style=\"text-align: right;\">\n",
       "      <th></th>\n",
       "      <th>Timestamp</th>\n",
       "      <th>mbti</th>\n",
       "      <th>fav_colour</th>\n",
       "      <th>life_value</th>\n",
       "      <th>settle_city</th>\n",
       "      <th>single_child</th>\n",
       "      <th>comfort_zone</th>\n",
       "      <th>parental_relationship</th>\n",
       "      <th>childhood_experience</th>\n",
       "      <th>parent_contact_frequency</th>\n",
       "      <th>place_grow_up</th>\n",
       "      <th>age</th>\n",
       "    </tr>\n",
       "  </thead>\n",
       "  <tbody>\n",
       "    <tr>\n",
       "      <th>0</th>\n",
       "      <td>2024/10/17 12:54:26 PM GMT+1</td>\n",
       "      <td>INTP</td>\n",
       "      <td>blue</td>\n",
       "      <td>family</td>\n",
       "      <td>bustling metropolis</td>\n",
       "      <td>yes</td>\n",
       "      <td>by yourself</td>\n",
       "      <td>neutral</td>\n",
       "      <td>neutral</td>\n",
       "      <td>daily</td>\n",
       "      <td>bustling metropolis</td>\n",
       "      <td>16 to 25</td>\n",
       "    </tr>\n",
       "    <tr>\n",
       "      <th>1</th>\n",
       "      <td>2024/10/17 12:58:32 PM GMT+1</td>\n",
       "      <td>No idea</td>\n",
       "      <td>red</td>\n",
       "      <td>family</td>\n",
       "      <td>everywhere</td>\n",
       "      <td>no</td>\n",
       "      <td>by yourself</td>\n",
       "      <td>positive</td>\n",
       "      <td>positive</td>\n",
       "      <td>daily</td>\n",
       "      <td>bustling metropolis</td>\n",
       "      <td>16 to 25</td>\n",
       "    </tr>\n",
       "    <tr>\n",
       "      <th>2</th>\n",
       "      <td>2024/10/17 1:02:58 PM GMT+1</td>\n",
       "      <td>No idea</td>\n",
       "      <td>green</td>\n",
       "      <td>family</td>\n",
       "      <td>no place</td>\n",
       "      <td>no</td>\n",
       "      <td>with someone</td>\n",
       "      <td>positive</td>\n",
       "      <td>neutral</td>\n",
       "      <td>monthly</td>\n",
       "      <td>countryside village</td>\n",
       "      <td>16 to 25</td>\n",
       "    </tr>\n",
       "    <tr>\n",
       "      <th>3</th>\n",
       "      <td>2024/10/17 1:06:48 PM GMT+1</td>\n",
       "      <td>ENFJ</td>\n",
       "      <td>red</td>\n",
       "      <td>family</td>\n",
       "      <td>coastal</td>\n",
       "      <td>no</td>\n",
       "      <td>with someone</td>\n",
       "      <td>positive</td>\n",
       "      <td>positive</td>\n",
       "      <td>daily</td>\n",
       "      <td>countryside village</td>\n",
       "      <td>25  to 35</td>\n",
       "    </tr>\n",
       "    <tr>\n",
       "      <th>4</th>\n",
       "      <td>2024/10/17 1:07:15 PM GMT+1</td>\n",
       "      <td>ENFP</td>\n",
       "      <td>blue</td>\n",
       "      <td>family</td>\n",
       "      <td>coastal</td>\n",
       "      <td>yes</td>\n",
       "      <td>NaN</td>\n",
       "      <td>neutral</td>\n",
       "      <td>positive</td>\n",
       "      <td>weekly</td>\n",
       "      <td>quiet suburb</td>\n",
       "      <td>16 to 25</td>\n",
       "    </tr>\n",
       "  </tbody>\n",
       "</table>\n",
       "</div>"
      ],
      "text/plain": [
       "                      Timestamp     mbti fav_colour life_value  \\\n",
       "0  2024/10/17 12:54:26 PM GMT+1     INTP       blue     family   \n",
       "1  2024/10/17 12:58:32 PM GMT+1  No idea        red     family   \n",
       "2   2024/10/17 1:02:58 PM GMT+1  No idea      green     family   \n",
       "3   2024/10/17 1:06:48 PM GMT+1     ENFJ        red     family   \n",
       "4   2024/10/17 1:07:15 PM GMT+1     ENFP       blue     family   \n",
       "\n",
       "           settle_city single_child  comfort_zone parental_relationship  \\\n",
       "0  bustling metropolis          yes   by yourself               neutral   \n",
       "1           everywhere           no   by yourself              positive   \n",
       "2             no place           no  with someone              positive   \n",
       "3              coastal           no  with someone              positive   \n",
       "4              coastal          yes           NaN               neutral   \n",
       "\n",
       "  childhood_experience parent_contact_frequency        place_grow_up  \\\n",
       "0              neutral                    daily  bustling metropolis   \n",
       "1             positive                    daily  bustling metropolis   \n",
       "2              neutral                  monthly  countryside village   \n",
       "3             positive                    daily  countryside village   \n",
       "4             positive                   weekly         quiet suburb   \n",
       "\n",
       "         age  \n",
       "0   16 to 25  \n",
       "1   16 to 25  \n",
       "2   16 to 25  \n",
       "3  25  to 35  \n",
       "4   16 to 25  "
      ]
     },
     "execution_count": 6,
     "metadata": {},
     "output_type": "execute_result"
    }
   ],
   "source": [
    "Survey.head()"
   ]
  },
  {
   "cell_type": "code",
   "execution_count": 7,
   "id": "9cd02704-82e4-4785-9134-97553f71efa4",
   "metadata": {},
   "outputs": [],
   "source": [
    "# The attribution of place people grew up in  and wish to settle done"
   ]
  },
  {
   "cell_type": "code",
   "execution_count": 15,
   "id": "63fcb46c-6435-42d0-a7a0-02696b78b7cb",
   "metadata": {},
   "outputs": [
    {
     "name": "stdout",
     "output_type": "stream",
     "text": [
      "['bustling metropolis', 'bustling metropolis', 'countryside village', 'countryside village', 'quiet suburb', 'bustling metropolis', 'quiet suburb', 'coastal', 'coastal', 'bustling metropolis', 'everywhere', 'bustling metropolis', 'Isolated country', 'bustling metropolis', 'bustling metropolis', 'bustling metropolis', 'bustling metropolis', 'bustling metropolis', 'bustling metropolis']\n"
     ]
    }
   ],
   "source": [
    "hometown_attri = Survey['place_grow_up'].tolist()\n",
    "print (hometown_attri)"
   ]
  },
  {
   "cell_type": "code",
   "execution_count": 17,
   "id": "de35b96f-d34f-47b4-8d2a-ad7943d2d198",
   "metadata": {},
   "outputs": [
    {
     "name": "stdout",
     "output_type": "stream",
     "text": [
      "bustling metropolis    11\n",
      "countryside village     2\n",
      "quiet suburb            2\n",
      "coastal                 2\n",
      "everywhere              1\n",
      "Isolated country        1\n",
      "Name: count, dtype: int64\n"
     ]
    }
   ],
   "source": [
    "place_counts = pd.Series(hometown_attri).value_counts()\n",
    "print (place_counts)"
   ]
  },
  {
   "cell_type": "code",
   "execution_count": 18,
   "id": "ebfcedfb-9443-4070-9a0d-9c2689973739",
   "metadata": {},
   "outputs": [
    {
     "data": {
      "image/png": "[encoded data removed]",
      "text/plain": [
       "<Figure size 640x480 with 1 Axes>"
      ]
     },
     "metadata": {},
     "output_type": "display_data"
    }
   ],
   "source": [
    "place_counts.plot(kind='bar')\n",
    "plt. title = hometown_attri\n",
    "plt. xlabel ('Place of Growth')\n",
    "plt. ylabel ('Count')\n",
    "plt.show()"
   ]
  },
  {
   "cell_type": "code",
   "execution_count": null,
   "id": "1d8fa7b6-3d48-445d-a947-af731a116bd6",
   "metadata": {},
   "outputs": [],
   "source": [
    "# Most of the people in our group grew up in big cities."
   ]
  },
  {
   "cell_type": "code",
   "execution_count": 4,
   "id": "571834ea-e56a-47a6-bd4a-0957f9a34e9c",
   "metadata": {},
   "outputs": [],
   "source": [
    "# How does childhood upbringing influence future preferred settling place?\n",
    "# Hypothesis - people with positive childhood experiences will tend to settle in similar places, vice versa"
   ]
  },
  {
   "cell_type": "code",
   "execution_count": 25,
   "id": "6e68f861-6a1a-4249-a9d8-f659d72b59cc",
   "metadata": {},
   "outputs": [
    {
     "name": "stdout",
     "output_type": "stream",
     "text": [
      "          place_grow_up childhood_experience          settle_city\n",
      "0   bustling metropolis              neutral  bustling metropolis\n",
      "1   bustling metropolis             positive           everywhere\n",
      "2   countryside village              neutral             no place\n",
      "3   countryside village             positive              coastal\n",
      "4          quiet suburb             positive              coastal\n",
      "5   bustling metropolis             positive         quiet suburb\n",
      "6          quiet suburb             positive  countryside village\n",
      "7               coastal          challenging  bustling metropolis\n",
      "8               coastal             positive              coastal\n",
      "9   bustling metropolis             positive           everywhere\n",
      "10           everywhere             positive           everywhere\n",
      "11  bustling metropolis             positive  bustling metropolis\n",
      "12     Isolated country          challenging           everywhere\n",
      "13  bustling metropolis          challenging  bustling metropolis\n",
      "14  bustling metropolis             positive           everywhere\n",
      "15  bustling metropolis              neutral             mountain\n",
      "16  bustling metropolis              neutral         quiet suburb\n",
      "17  bustling metropolis             positive         quiet suburb\n",
      "18  bustling metropolis             positive         quiet suburb\n"
     ]
    }
   ],
   "source": [
    "sliced_survey = Survey[['place_grow_up','childhood_experience','settle_city']]\n",
    "print(sliced_survey)"
   ]
  },
  {
   "cell_type": "code",
   "execution_count": 26,
   "id": "fffa2bd1-04a7-4d5f-bc4f-f0a6ee30d58e",
   "metadata": {},
   "outputs": [
    {
     "data": {
      "text/plain": [
       "pandas.core.frame.DataFrame"
      ]
     },
     "execution_count": 26,
     "metadata": {},
     "output_type": "execute_result"
    }
   ],
   "source": [
    "type(sliced_survey)"
   ]
  },
  {
   "cell_type": "code",
   "execution_count": 27,
   "id": "b9cc0be1-2114-4a71-9783-a066af5158ba",
   "metadata": {},
   "outputs": [
    {
     "name": "stderr",
     "output_type": "stream",
     "text": [
      "/var/folders/8t/h_ygnqfn40n6grnn231r3rlm0000gn/T/ipykernel_30532/3449680722.py:1: SettingWithCopyWarning: \n",
      "A value is trying to be set on a copy of a slice from a DataFrame.\n",
      "Try using .loc[row_indexer,col_indexer] = value instead\n",
      "\n",
      "See the caveats in the documentation: https://pandas.pydata.org/pandas-docs/stable/user_guide/indexing.html#returning-a-view-versus-a-copy\n",
      "  sliced_survey['neutral_positive']= sliced_survey['childhood_experience'].apply(lambda x:  x in ['neutral','positive'])\n"
     ]
    },
    {
     "data": {
      "text/html": [
       "<div>\n",
       "<style scoped>\n",
       "    .dataframe tbody tr th:only-of-type {\n",
       "        vertical-align: middle;\n",
       "    }\n",
       "\n",
       "    .dataframe tbody tr th {\n",
       "        vertical-align: top;\n",
       "    }\n",
       "\n",
       "    .dataframe thead th {\n",
       "        text-align: right;\n",
       "    }\n",
       "</style>\n",
       "<table border=\"1\" class=\"dataframe\">\n",
       "  <thead>\n",
       "    <tr style=\"text-align: right;\">\n",
       "      <th></th>\n",
       "      <th>place_grow_up</th>\n",
       "      <th>childhood_experience</th>\n",
       "      <th>settle_city</th>\n",
       "      <th>neutral_positive</th>\n",
       "    </tr>\n",
       "  </thead>\n",
       "  <tbody>\n",
       "    <tr>\n",
       "      <th>0</th>\n",
       "      <td>bustling metropolis</td>\n",
       "      <td>neutral</td>\n",
       "      <td>bustling metropolis</td>\n",
       "      <td>True</td>\n",
       "    </tr>\n",
       "    <tr>\n",
       "      <th>1</th>\n",
       "      <td>bustling metropolis</td>\n",
       "      <td>positive</td>\n",
       "      <td>everywhere</td>\n",
       "      <td>True</td>\n",
       "    </tr>\n",
       "    <tr>\n",
       "      <th>2</th>\n",
       "      <td>countryside village</td>\n",
       "      <td>neutral</td>\n",
       "      <td>no place</td>\n",
       "      <td>True</td>\n",
       "    </tr>\n",
       "    <tr>\n",
       "      <th>3</th>\n",
       "      <td>countryside village</td>\n",
       "      <td>positive</td>\n",
       "      <td>coastal</td>\n",
       "      <td>True</td>\n",
       "    </tr>\n",
       "    <tr>\n",
       "      <th>4</th>\n",
       "      <td>quiet suburb</td>\n",
       "      <td>positive</td>\n",
       "      <td>coastal</td>\n",
       "      <td>True</td>\n",
       "    </tr>\n",
       "    <tr>\n",
       "      <th>5</th>\n",
       "      <td>bustling metropolis</td>\n",
       "      <td>positive</td>\n",
       "      <td>quiet suburb</td>\n",
       "      <td>True</td>\n",
       "    </tr>\n",
       "    <tr>\n",
       "      <th>6</th>\n",
       "      <td>quiet suburb</td>\n",
       "      <td>positive</td>\n",
       "      <td>countryside village</td>\n",
       "      <td>True</td>\n",
       "    </tr>\n",
       "    <tr>\n",
       "      <th>7</th>\n",
       "      <td>coastal</td>\n",
       "      <td>challenging</td>\n",
       "      <td>bustling metropolis</td>\n",
       "      <td>False</td>\n",
       "    </tr>\n",
       "    <tr>\n",
       "      <th>8</th>\n",
       "      <td>coastal</td>\n",
       "      <td>positive</td>\n",
       "      <td>coastal</td>\n",
       "      <td>True</td>\n",
       "    </tr>\n",
       "    <tr>\n",
       "      <th>9</th>\n",
       "      <td>bustling metropolis</td>\n",
       "      <td>positive</td>\n",
       "      <td>everywhere</td>\n",
       "      <td>True</td>\n",
       "    </tr>\n",
       "    <tr>\n",
       "      <th>10</th>\n",
       "      <td>everywhere</td>\n",
       "      <td>positive</td>\n",
       "      <td>everywhere</td>\n",
       "      <td>True</td>\n",
       "    </tr>\n",
       "    <tr>\n",
       "      <th>11</th>\n",
       "      <td>bustling metropolis</td>\n",
       "      <td>positive</td>\n",
       "      <td>bustling metropolis</td>\n",
       "      <td>True</td>\n",
       "    </tr>\n",
       "    <tr>\n",
       "      <th>12</th>\n",
       "      <td>Isolated country</td>\n",
       "      <td>challenging</td>\n",
       "      <td>everywhere</td>\n",
       "      <td>False</td>\n",
       "    </tr>\n",
       "    <tr>\n",
       "      <th>13</th>\n",
       "      <td>bustling metropolis</td>\n",
       "      <td>challenging</td>\n",
       "      <td>bustling metropolis</td>\n",
       "      <td>False</td>\n",
       "    </tr>\n",
       "    <tr>\n",
       "      <th>14</th>\n",
       "      <td>bustling metropolis</td>\n",
       "      <td>positive</td>\n",
       "      <td>everywhere</td>\n",
       "      <td>True</td>\n",
       "    </tr>\n",
       "    <tr>\n",
       "      <th>15</th>\n",
       "      <td>bustling metropolis</td>\n",
       "      <td>neutral</td>\n",
       "      <td>mountain</td>\n",
       "      <td>True</td>\n",
       "    </tr>\n",
       "    <tr>\n",
       "      <th>16</th>\n",
       "      <td>bustling metropolis</td>\n",
       "      <td>neutral</td>\n",
       "      <td>quiet suburb</td>\n",
       "      <td>True</td>\n",
       "    </tr>\n",
       "    <tr>\n",
       "      <th>17</th>\n",
       "      <td>bustling metropolis</td>\n",
       "      <td>positive</td>\n",
       "      <td>quiet suburb</td>\n",
       "      <td>True</td>\n",
       "    </tr>\n",
       "    <tr>\n",
       "      <th>18</th>\n",
       "      <td>bustling metropolis</td>\n",
       "      <td>positive</td>\n",
       "      <td>quiet suburb</td>\n",
       "      <td>True</td>\n",
       "    </tr>\n",
       "  </tbody>\n",
       "</table>\n",
       "</div>"
      ],
      "text/plain": [
       "          place_grow_up childhood_experience          settle_city  \\\n",
       "0   bustling metropolis              neutral  bustling metropolis   \n",
       "1   bustling metropolis             positive           everywhere   \n",
       "2   countryside village              neutral             no place   \n",
       "3   countryside village             positive              coastal   \n",
       "4          quiet suburb             positive              coastal   \n",
       "5   bustling metropolis             positive         quiet suburb   \n",
       "6          quiet suburb             positive  countryside village   \n",
       "7               coastal          challenging  bustling metropolis   \n",
       "8               coastal             positive              coastal   \n",
       "9   bustling metropolis             positive           everywhere   \n",
       "10           everywhere             positive           everywhere   \n",
       "11  bustling metropolis             positive  bustling metropolis   \n",
       "12     Isolated country          challenging           everywhere   \n",
       "13  bustling metropolis          challenging  bustling metropolis   \n",
       "14  bustling metropolis             positive           everywhere   \n",
       "15  bustling metropolis              neutral             mountain   \n",
       "16  bustling metropolis              neutral         quiet suburb   \n",
       "17  bustling metropolis             positive         quiet suburb   \n",
       "18  bustling metropolis             positive         quiet suburb   \n",
       "\n",
       "    neutral_positive  \n",
       "0               True  \n",
       "1               True  \n",
       "2               True  \n",
       "3               True  \n",
       "4               True  \n",
       "5               True  \n",
       "6               True  \n",
       "7              False  \n",
       "8               True  \n",
       "9               True  \n",
       "10              True  \n",
       "11              True  \n",
       "12             False  \n",
       "13             False  \n",
       "14              True  \n",
       "15              True  \n",
       "16              True  \n",
       "17              True  \n",
       "18              True  "
      ]
     },
     "execution_count": 27,
     "metadata": {},
     "output_type": "execute_result"
    }
   ],
   "source": [
    "sliced_survey['neutral_positive']= sliced_survey['childhood_experience'].apply(lambda x:  x in ['neutral','positive'])\n",
    "sliced_survey"
   ]
  },
  {
   "cell_type": "code",
   "execution_count": 37,
   "id": "03cf84ec-ea53-4cef-897d-5f41858f9bbb",
   "metadata": {},
   "outputs": [
    {
     "name": "stdout",
     "output_type": "stream",
     "text": [
      "          place_grow_up childhood_experience          settle_city  \\\n",
      "0   bustling metropolis              neutral  bustling metropolis   \n",
      "1   bustling metropolis             positive           everywhere   \n",
      "2   countryside village              neutral             no place   \n",
      "3   countryside village             positive              coastal   \n",
      "4          quiet suburb             positive              coastal   \n",
      "5   bustling metropolis             positive         quiet suburb   \n",
      "6          quiet suburb             positive  countryside village   \n",
      "7               coastal          challenging  bustling metropolis   \n",
      "8               coastal             positive              coastal   \n",
      "9   bustling metropolis             positive           everywhere   \n",
      "10           everywhere             positive           everywhere   \n",
      "11  bustling metropolis             positive  bustling metropolis   \n",
      "12     Isolated country          challenging           everywhere   \n",
      "13  bustling metropolis          challenging  bustling metropolis   \n",
      "14  bustling metropolis             positive           everywhere   \n",
      "15  bustling metropolis              neutral             mountain   \n",
      "16  bustling metropolis              neutral         quiet suburb   \n",
      "17  bustling metropolis             positive         quiet suburb   \n",
      "18  bustling metropolis             positive         quiet suburb   \n",
      "\n",
      "    neutral_positive  \n",
      "0               True  \n",
      "1               True  \n",
      "2               True  \n",
      "3               True  \n",
      "4               True  \n",
      "5               True  \n",
      "6               True  \n",
      "7              False  \n",
      "8               True  \n",
      "9               True  \n",
      "10              True  \n",
      "11              True  \n",
      "12             False  \n",
      "13             False  \n",
      "14              True  \n",
      "15              True  \n",
      "16              True  \n",
      "17              True  \n",
      "18              True  \n"
     ]
    }
   ],
   "source": [
    "true_survey = sliced_survey[['place_grow_up','childhood_experience','settle_city','neutral_positive']]\n",
    "print(true_survey)"
   ]
  },
  {
   "cell_type": "code",
   "execution_count": 39,
   "id": "9954e430-317f-46db-80c2-a4ebc5e0c3f9",
   "metadata": {},
   "outputs": [
    {
     "name": "stdout",
     "output_type": "stream",
     "text": [
      "          place_grow_up childhood_experience          settle_city  \\\n",
      "0   bustling metropolis              neutral  bustling metropolis   \n",
      "1   bustling metropolis             positive           everywhere   \n",
      "2   countryside village              neutral             no place   \n",
      "3   countryside village             positive              coastal   \n",
      "4          quiet suburb             positive              coastal   \n",
      "5   bustling metropolis             positive         quiet suburb   \n",
      "6          quiet suburb             positive  countryside village   \n",
      "8               coastal             positive              coastal   \n",
      "9   bustling metropolis             positive           everywhere   \n",
      "10           everywhere             positive           everywhere   \n",
      "11  bustling metropolis             positive  bustling metropolis   \n",
      "14  bustling metropolis             positive           everywhere   \n",
      "15  bustling metropolis              neutral             mountain   \n",
      "16  bustling metropolis              neutral         quiet suburb   \n",
      "17  bustling metropolis             positive         quiet suburb   \n",
      "18  bustling metropolis             positive         quiet suburb   \n",
      "\n",
      "    neutral_positive  \n",
      "0               True  \n",
      "1               True  \n",
      "2               True  \n",
      "3               True  \n",
      "4               True  \n",
      "5               True  \n",
      "6               True  \n",
      "8               True  \n",
      "9               True  \n",
      "10              True  \n",
      "11              True  \n",
      "14              True  \n",
      "15              True  \n",
      "16              True  \n",
      "17              True  \n",
      "18              True  \n"
     ]
    }
   ],
   "source": [
    "filtered_true_survey = true_survey[true_survey['neutral_positive'] == True]\n",
    "print (filtered_true_survey)"
   ]
  },
  {
   "cell_type": "code",
   "execution_count": 61,
   "id": "6b0f161d-a193-4d08-8ba6-df8fe9990968",
   "metadata": {},
   "outputs": [
    {
     "name": "stdout",
     "output_type": "stream",
     "text": [
      "          place_grow_up          settle_city\n",
      "0   bustling metropolis  bustling metropolis\n",
      "1   bustling metropolis           everywhere\n",
      "2   countryside village             no place\n",
      "3   countryside village              coastal\n",
      "4          quiet suburb              coastal\n",
      "5   bustling metropolis         quiet suburb\n",
      "6          quiet suburb  countryside village\n",
      "8               coastal              coastal\n",
      "9   bustling metropolis           everywhere\n",
      "10           everywhere           everywhere\n",
      "11  bustling metropolis  bustling metropolis\n",
      "14  bustling metropolis           everywhere\n",
      "15  bustling metropolis             mountain\n",
      "16  bustling metropolis         quiet suburb\n",
      "17  bustling metropolis         quiet suburb\n",
      "18  bustling metropolis         quiet suburb\n"
     ]
    }
   ],
   "source": [
    "survey_comparision = filtered_true_survey[['place_grow_up', 'settle_city']]\n",
    "print (survey_comparision)"
   ]
  },
  {
   "cell_type": "code",
   "execution_count": 69,
   "id": "17094f14-d979-4c80-af63-d2b22fab631b",
   "metadata": {
    "scrolled": true
   },
   "outputs": [
    {
     "ename": "ValueError",
     "evalue": "The truth value of a Series is ambiguous. Use a.empty, a.bool(), a.item(), a.any() or a.all().",
     "output_type": "error",
     "traceback": [
      "\u001b[0;31m---------------------------------------------------------------------------\u001b[0m",
      "\u001b[0;31mValueError\u001b[0m                                Traceback (most recent call last)",
      "\u001b[0;32m/var/folders/8t/h_ygnqfn40n6grnn231r3rlm0000gn/T/ipykernel_30532/3900066951.py\u001b[0m in \u001b[0;36m?\u001b[0;34m()\u001b[0m\n\u001b[1;32m      1\u001b[0m \u001b[0;32mfor\u001b[0m \u001b[0mcomparison\u001b[0m \u001b[0;32min\u001b[0m \u001b[0msurvey_comparision\u001b[0m\u001b[0;34m:\u001b[0m\u001b[0;34m\u001b[0m\u001b[0;34m\u001b[0m\u001b[0m\n\u001b[0;32m----> 2\u001b[0;31m     \u001b[0;32mif\u001b[0m \u001b[0msurvey_comparision\u001b[0m\u001b[0;34m[\u001b[0m\u001b[0;34m'place_grow_up'\u001b[0m\u001b[0;34m]\u001b[0m \u001b[0;34m==\u001b[0m \u001b[0msurvey_comparision\u001b[0m\u001b[0;34m[\u001b[0m\u001b[0;34m'settle_city'\u001b[0m\u001b[0;34m]\u001b[0m\u001b[0;34m:\u001b[0m\u001b[0;34m\u001b[0m\u001b[0;34m\u001b[0m\u001b[0m\n\u001b[0m\u001b[1;32m      3\u001b[0m         \u001b[0mprint\u001b[0m \u001b[0;34m(\u001b[0m\u001b[0;34m'True'\u001b[0m\u001b[0;34m)\u001b[0m\u001b[0;34m\u001b[0m\u001b[0;34m\u001b[0m\u001b[0m\n\u001b[1;32m      4\u001b[0m     \u001b[0;32melse\u001b[0m\u001b[0;34m:\u001b[0m\u001b[0;34m\u001b[0m\u001b[0;34m\u001b[0m\u001b[0m\n\u001b[1;32m      5\u001b[0m         \u001b[0mprint\u001b[0m \u001b[0;34m(\u001b[0m\u001b[0;34m'False'\u001b[0m\u001b[0;34m)\u001b[0m\u001b[0;34m\u001b[0m\u001b[0;34m\u001b[0m\u001b[0m\n",
      "\u001b[0;32m/Library/Frameworks/Python.framework/Versions/3.12/lib/python3.12/site-packages/pandas/core/generic.py\u001b[0m in \u001b[0;36m?\u001b[0;34m(self)\u001b[0m\n\u001b[1;32m   1575\u001b[0m     \u001b[0;34m@\u001b[0m\u001b[0mfinal\u001b[0m\u001b[0;34m\u001b[0m\u001b[0;34m\u001b[0m\u001b[0m\n\u001b[1;32m   1576\u001b[0m     \u001b[0;32mdef\u001b[0m \u001b[0m__nonzero__\u001b[0m\u001b[0;34m(\u001b[0m\u001b[0mself\u001b[0m\u001b[0;34m)\u001b[0m \u001b[0;34m->\u001b[0m \u001b[0mNoReturn\u001b[0m\u001b[0;34m:\u001b[0m\u001b[0;34m\u001b[0m\u001b[0;34m\u001b[0m\u001b[0m\n\u001b[0;32m-> 1577\u001b[0;31m         raise ValueError(\n\u001b[0m\u001b[1;32m   1578\u001b[0m             \u001b[0;34mf\"\u001b[0m\u001b[0;34mThe truth value of a \u001b[0m\u001b[0;34m{\u001b[0m\u001b[0mtype\u001b[0m\u001b[0;34m(\u001b[0m\u001b[0mself\u001b[0m\u001b[0;34m)\u001b[0m\u001b[0;34m.\u001b[0m\u001b[0m__name__\u001b[0m\u001b[0;34m}\u001b[0m\u001b[0;34m is ambiguous. \u001b[0m\u001b[0;34m\"\u001b[0m\u001b[0;34m\u001b[0m\u001b[0;34m\u001b[0m\u001b[0m\n\u001b[1;32m   1579\u001b[0m             \u001b[0;34m\"Use a.empty, a.bool(), a.item(), a.any() or a.all().\"\u001b[0m\u001b[0;34m\u001b[0m\u001b[0;34m\u001b[0m\u001b[0m\n\u001b[1;32m   1580\u001b[0m         \u001b[0;34m)\u001b[0m\u001b[0;34m\u001b[0m\u001b[0;34m\u001b[0m\u001b[0m\n",
      "\u001b[0;31mValueError\u001b[0m: The truth value of a Series is ambiguous. Use a.empty, a.bool(), a.item(), a.any() or a.all()."
     ]
    }
   ],
   "source": [
    "for comparison in survey_comparision: \n",
    "    if survey_comparision['place_grow_up'] == survey_comparision['settle_city']:\n",
    "        print ('True') \n",
    "    else:\n",
    "        print ('False')"
   ]
  },
  {
   "cell_type": "code",
   "execution_count": null,
   "id": "6d533c6e-a3a9-4da5-92dd-03f947498997",
   "metadata": {},
   "outputs": [],
   "source": [
    "# the relationship between single_child and comfort_zone"
   ]
  },
  {
   "cell_type": "code",
   "execution_count": 58,
   "id": "6b9acd25-1159-43e8-838e-913728897ada",
   "metadata": {},
   "outputs": [
    {
     "name": "stdout",
     "output_type": "stream",
     "text": [
      "   single_child  comfort_zone\n",
      "0           yes   by yourself\n",
      "1            no   by yourself\n",
      "2            no  with someone\n",
      "3            no  with someone\n",
      "4           yes           NaN\n",
      "5           yes  with someone\n",
      "6           yes  with someone\n",
      "7           yes   by yourself\n",
      "8            no  with someone\n",
      "9           yes  with someone\n",
      "10           no  with someone\n",
      "11           no   by yourself\n",
      "12           no   by yourself\n",
      "13           no   by yourself\n",
      "14           no   by yourself\n",
      "15           no   by yourself\n",
      "16           no   by yourself\n",
      "17           no   by yourself\n",
      "18           no   by yourself\n"
     ]
    }
   ],
   "source": [
    "sliced_survey_zone = Survey[['single_child','comfort_zone']]\n",
    "print (sliced_survey_zone)"
   ]
  },
  {
   "cell_type": "code",
   "execution_count": 70,
   "id": "0232b385-faef-4c82-8060-21ecc392ec24",
   "metadata": {},
   "outputs": [],
   "source": [
    "# Hypothesis : if you are the single child, you prefer to be with someone, if you are not the single child you prefer personal space"
   ]
  },
  {
   "cell_type": "code",
   "execution_count": 74,
   "id": "41f10dd5-e0c3-4c45-8b8e-d9c2568d61b0",
   "metadata": {},
   "outputs": [
    {
     "ename": "ValueError",
     "evalue": "The truth value of a Series is ambiguous. Use a.empty, a.bool(), a.item(), a.any() or a.all().",
     "output_type": "error",
     "traceback": [
      "\u001b[0;31m---------------------------------------------------------------------------\u001b[0m",
      "\u001b[0;31mValueError\u001b[0m                                Traceback (most recent call last)",
      "\u001b[0;32m/var/folders/8t/h_ygnqfn40n6grnn231r3rlm0000gn/T/ipykernel_30532/3832862904.py\u001b[0m in \u001b[0;36m?\u001b[0;34m()\u001b[0m\n\u001b[1;32m      1\u001b[0m \u001b[0;32mfor\u001b[0m \u001b[0mture\u001b[0m \u001b[0;32min\u001b[0m \u001b[0msliced_survey_zone\u001b[0m\u001b[0;34m:\u001b[0m\u001b[0;34m\u001b[0m\u001b[0;34m\u001b[0m\u001b[0m\n\u001b[0;32m----> 2\u001b[0;31m     \u001b[0;32mif\u001b[0m \u001b[0;34m(\u001b[0m\u001b[0msliced_survey_zone\u001b[0m\u001b[0;34m[\u001b[0m\u001b[0;34m'single_child'\u001b[0m\u001b[0;34m]\u001b[0m \u001b[0;34m==\u001b[0m \u001b[0;34m'no'\u001b[0m \u001b[0;34m)\u001b[0m \u001b[0;34m==\u001b[0m \u001b[0;34m(\u001b[0m\u001b[0msliced_survey_zone\u001b[0m\u001b[0;34m[\u001b[0m\u001b[0;34m'comfort_zone'\u001b[0m\u001b[0;34m]\u001b[0m \u001b[0;34m==\u001b[0m \u001b[0;34m'by yourself'\u001b[0m\u001b[0;34m)\u001b[0m \u001b[0;34m:\u001b[0m\u001b[0;34m\u001b[0m\u001b[0;34m\u001b[0m\u001b[0m\n\u001b[0m\u001b[1;32m      3\u001b[0m         \u001b[0mprint\u001b[0m \u001b[0;34m(\u001b[0m\u001b[0;34m'yes'\u001b[0m\u001b[0;34m)\u001b[0m\u001b[0;34m\u001b[0m\u001b[0;34m\u001b[0m\u001b[0m\n",
      "\u001b[0;32m/Library/Frameworks/Python.framework/Versions/3.12/lib/python3.12/site-packages/pandas/core/generic.py\u001b[0m in \u001b[0;36m?\u001b[0;34m(self)\u001b[0m\n\u001b[1;32m   1575\u001b[0m     \u001b[0;34m@\u001b[0m\u001b[0mfinal\u001b[0m\u001b[0;34m\u001b[0m\u001b[0;34m\u001b[0m\u001b[0m\n\u001b[1;32m   1576\u001b[0m     \u001b[0;32mdef\u001b[0m \u001b[0m__nonzero__\u001b[0m\u001b[0;34m(\u001b[0m\u001b[0mself\u001b[0m\u001b[0;34m)\u001b[0m \u001b[0;34m->\u001b[0m \u001b[0mNoReturn\u001b[0m\u001b[0;34m:\u001b[0m\u001b[0;34m\u001b[0m\u001b[0;34m\u001b[0m\u001b[0m\n\u001b[0;32m-> 1577\u001b[0;31m         raise ValueError(\n\u001b[0m\u001b[1;32m   1578\u001b[0m             \u001b[0;34mf\"\u001b[0m\u001b[0;34mThe truth value of a \u001b[0m\u001b[0;34m{\u001b[0m\u001b[0mtype\u001b[0m\u001b[0;34m(\u001b[0m\u001b[0mself\u001b[0m\u001b[0;34m)\u001b[0m\u001b[0;34m.\u001b[0m\u001b[0m__name__\u001b[0m\u001b[0;34m}\u001b[0m\u001b[0;34m is ambiguous. \u001b[0m\u001b[0;34m\"\u001b[0m\u001b[0;34m\u001b[0m\u001b[0;34m\u001b[0m\u001b[0m\n\u001b[1;32m   1579\u001b[0m             \u001b[0;34m\"Use a.empty, a.bool(), a.item(), a.any() or a.all().\"\u001b[0m\u001b[0;34m\u001b[0m\u001b[0;34m\u001b[0m\u001b[0m\n\u001b[1;32m   1580\u001b[0m         \u001b[0;34m)\u001b[0m\u001b[0;34m\u001b[0m\u001b[0;34m\u001b[0m\u001b[0m\n",
      "\u001b[0;31mValueError\u001b[0m: The truth value of a Series is ambiguous. Use a.empty, a.bool(), a.item(), a.any() or a.all()."
     ]
    }
   ],
   "source": [
    "for ture in sliced_survey_zone: \n",
    "    if (sliced_survey_zone['single_child'] == 'no' ) == (sliced_survey_zone['comfort_zone'] == 'by yourself') :\n",
    "        print ('yes')"
   ]
  },
  {
   "cell_type": "code",
   "execution_count": null,
   "id": "b5108dc1-2b48-4e6a-8dd3-c948a3d4aec9",
   "metadata": {},
   "outputs": [],
   "source": []
  }
 ],
 "metadata": {
  "kernelspec": {
   "display_name": "Python 3 (ipykernel)",
   "language": "python",
   "name": "python3"
  },
  "language_info": {
   "codemirror_mode": {
    "name": "ipython",
    "version": 3
   },
   "file_extension": ".py",
   "mimetype": "text/x-python",
   "name": "python",
   "nbconvert_exporter": "python",
   "pygments_lexer": "ipython3",
   "version": "3.12.6"
  }
 },
 "nbformat": 4,
 "nbformat_minor": 5
}
